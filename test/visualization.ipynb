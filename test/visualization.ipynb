{
 "cells": [
  {
   "cell_type": "code",
   "execution_count": 34,
   "metadata": {},
   "outputs": [
    {
     "data": {
      "text/plain": [
       "contour_density (generic function with 1 method)"
      ]
     },
     "execution_count": 34,
     "metadata": {},
     "output_type": "execute_result"
    }
   ],
   "source": [
    "using VecTargets, Plots, BSON\n",
    "\n",
    "function contour_density(target, x, y)\n",
    "    X = repeat(reshape(x, 1, :), length(y), 1)\n",
    "    Y = repeat(y, 1, length(x))\n",
    "    θ = hcat(X[:], Y[:])'\n",
    "    Z = exp.(logpdf(target, θ))\n",
    "\n",
    "    return contour(x, y, Z, size=(300, 300), aspect_ratio=:equal)\n",
    "end"
   ]
  },
  {
   "cell_type": "markdown",
   "metadata": {},
   "source": [
    "## Banana"
   ]
  },
  {
   "cell_type": "code",
   "execution_count": 2,
   "metadata": {},
   "outputs": [],
   "source": [
    "target = Banana()\n",
    "\n",
    "x = -4.5:0.01:4.5\n",
    "y = -1.0:0.01:8.0\n",
    "p = contour_density(target, x, y)\n",
    "savefig(p, \"banana.png\")"
   ]
  },
  {
   "cell_type": "markdown",
   "metadata": {},
   "source": [
    "## Gaussians"
   ]
  },
  {
   "cell_type": "code",
   "execution_count": 3,
   "metadata": {},
   "outputs": [],
   "source": [
    "target = HighDimGaussian(2)\n",
    "\n",
    "x = -3.0:0.01:3.0\n",
    "y = -3.0:0.01:3.0\n",
    "p = contour_density(target, x, y)\n",
    "savefig(p, \"2d_gaussian.png\")"
   ]
  },
  {
   "cell_type": "markdown",
   "metadata": {},
   "source": [
    "## Mixture of Gaussians"
   ]
  },
  {
   "cell_type": "markdown",
   "metadata": {},
   "source": [
    "### 1D MoG"
   ]
  },
  {
   "cell_type": "code",
   "execution_count": 4,
   "metadata": {},
   "outputs": [],
   "source": [
    "target = OneDimGaussianMixtures()\n",
    "\n",
    "x = -3.0:0.01:3.0\n",
    "p = plot(x, exp.(logpdf(target, x')), size=(300, 300), label=nothing)\n",
    "savefig(p, \"1d_mog.png\")"
   ]
  },
  {
   "cell_type": "markdown",
   "metadata": {},
   "source": [
    "### 2D MoG"
   ]
  },
  {
   "cell_type": "code",
   "execution_count": 5,
   "metadata": {},
   "outputs": [],
   "source": [
    "target = TwoDimGaussianMixtures()\n",
    "\n",
    "x = -3.0:0.01:3.0\n",
    "y = -3.0:0.01:3.0\n",
    "p = contour_density(target, x, y)\n",
    "savefig(p, \"2d_mog.png\")"
   ]
  },
  {
   "cell_type": "markdown",
   "metadata": {},
   "source": [
    "### Spiral"
   ]
  },
  {
   "cell_type": "code",
   "execution_count": 6,
   "metadata": {},
   "outputs": [],
   "source": [
    "target = Spiral(50, 0.04)\n",
    "\n",
    "x = -0.6:0.01:0.6\n",
    "y = -0.6:0.01:0.6\n",
    "p = contour_density(target, x, y)\n",
    "savefig(p, \"spiral.png\")"
   ]
  },
  {
   "cell_type": "markdown",
   "metadata": {},
   "source": [
    "## Finish pine saplings dataset\n",
    "\n",
    "### Raw"
   ]
  },
  {
   "cell_type": "code",
   "execution_count": 36,
   "metadata": {},
   "outputs": [],
   "source": [
    "finpines = BSON.load(joinpath(\"../data\", \"finpines-raw.bson\"))\n",
    "\n",
    "p = scatter(finpines[:x], finpines[:y], size=(300, 300), label=nothing, aspect_ratio=:equal)\n",
    "savefig(p, \"finpine-raw.png\")"
   ]
  },
  {
   "cell_type": "markdown",
   "metadata": {},
   "source": [
    "### Processed (with different number of grids)"
   ]
  },
  {
   "cell_type": "code",
   "execution_count": 37,
   "metadata": {},
   "outputs": [],
   "source": [
    "ps = map([16, 32, 64]) do ngrid\n",
    "    finpines = BSON.load(joinpath(\"../data\", \"finpines-$ngrid.bson\"))\n",
    "    data_counts = finpines[:data_counts]\n",
    "    heatmap(reshape(data_counts, ngrid, ngrid), aspect_ratio=:equal, title=\"$ngrid x $ngrid\")\n",
    "end\n",
    "p = plot(ps..., layout=@layout([a b c]), size=(300 * 3, 300))\n",
    "savefig(p, \"finpine-grid.png\")"
   ]
  },
  {
   "cell_type": "code",
   "execution_count": null,
   "metadata": {},
   "outputs": [],
   "source": []
  }
 ],
 "metadata": {
  "kernelspec": {
   "display_name": "Julia 1.5.0",
   "language": "julia",
   "name": "julia-1.5"
  },
  "language_info": {
   "file_extension": ".jl",
   "mimetype": "application/julia",
   "name": "julia",
   "version": "1.5.0"
  }
 },
 "nbformat": 4,
 "nbformat_minor": 4
}
